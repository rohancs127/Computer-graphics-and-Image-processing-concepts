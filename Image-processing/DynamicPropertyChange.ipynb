{
 "cells": [
  {
   "cell_type": "code",
   "execution_count": null,
   "metadata": {},
   "outputs": [],
   "source": [
    "import cv2\n",
    "import numpy as np\n",
    "\n",
    "def onchange(value):\n",
    "    img = cv2.rectangle(image, (0,0), (550,550), (0,0,0), -1)\n",
    "    cv2.imshow(\"Shape\", img)\n",
    "    pass\n",
    "\n",
    "cv2.namedWindow(\"Shape Properties\")\n",
    "image = np.zeros((550,550,3), np.uint8)\n",
    "\n",
    "initial_width = 200\n",
    "initial_height = 100\n",
    "initial_color = (0,255,0)\n",
    "\n",
    "cv2.createTrackbar(\"Width\", \"Shape Properties\", initial_width, 500, onchange)\n",
    "cv2.createTrackbar(\"Height\", \"Shape Properties\", initial_height, 500, onchange)\n",
    "cv2.createTrackbar(\"Red\", \"Shape Properties\", initial_color[0], 255, onchange)\n",
    "cv2.createTrackbar(\"Green\", \"Shape Properties\", initial_color[1], 255, onchange)\n",
    "cv2.createTrackbar(\"Blue\", \"Shape Properties\", initial_color[2], 255, onchange)\n",
    "\n",
    "while True:\n",
    "    width = cv2.getTrackbarPos(\"Width\", \"Shape Properties\")\n",
    "    height = cv2.getTrackbarPos(\"Height\", \"Shape Properties\")\n",
    "    red = cv2.getTrackbarPos(\"Red\", \"Shape Properties\")\n",
    "    green = cv2.getTrackbarPos(\"Green\", \"Shape Properties\")\n",
    "    blue = cv2.getTrackbarPos(\"Blue\", \"Shape Properties\")\n",
    "    \n",
    "    shape = (width, height)\n",
    "    color = (blue, green, red)\n",
    "    \n",
    "    img = cv2.rectangle(image, (10,10), shape, color, -1)\n",
    "    cv2.imshow(\"Shape\", img)\n",
    "    \n",
    "    key = cv2.waitKey(1)& 0XFF\n",
    "    if key== ord(\"q\"):\n",
    "        break\n",
    "    \n",
    "cv2.destroyAllWindows();\n",
    "    \n",
    "\n"
   ]
  }
 ],
 "metadata": {
  "kernelspec": {
   "display_name": "Python 3",
   "language": "python",
   "name": "python3"
  },
  "language_info": {
   "name": "python",
   "version": "3.11.6"
  }
 },
 "nbformat": 4,
 "nbformat_minor": 2
}
