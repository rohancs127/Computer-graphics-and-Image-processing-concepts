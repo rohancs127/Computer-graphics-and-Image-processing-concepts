{
 "cells": [
  {
   "cell_type": "code",
   "execution_count": null,
   "metadata": {},
   "outputs": [],
   "source": [
    "import cv2\n",
    "\n",
    "image = cv2.imread(\"image_path\")\n",
    "\n",
    "averageBlur = cv2.blur(image, (5,5))\n",
    "gaussianBlur = cv2.GaussianBlur(image, (5,5), 0)\n",
    "medianBlur = cv2.medianBlur(image, 5)\n",
    "bilateral = cv2.bilateralFilter(image, 9,75,75)\n",
    "\n",
    "cv2.imshow(\"Original Image\", image)\n",
    "cv2.imshow(\"Average Blur\", averageBlur)\n",
    "cv2.imshow(\"Gaussian Blur\", gaussianBlur)\n",
    "cv2.imshow(\"Median Blur\", medianBlur)\n",
    "cv2.imshow(\"Bilateral Filter\", bilateral)\n",
    "\n",
    "cv2.waitKey(0)\n",
    "cv2.destroyAllWindows()\n"
   ]
  }
 ],
 "metadata": {
  "language_info": {
   "name": "python"
  }
 },
 "nbformat": 4,
 "nbformat_minor": 2
}
