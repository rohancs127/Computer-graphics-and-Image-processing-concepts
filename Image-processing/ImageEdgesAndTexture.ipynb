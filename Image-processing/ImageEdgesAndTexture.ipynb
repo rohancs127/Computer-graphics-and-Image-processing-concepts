{
 "cells": [
  {
   "cell_type": "code",
   "execution_count": null,
   "metadata": {},
   "outputs": [],
   "source": [
    "import cv2\n",
    "import numpy as np\n",
    "\n",
    "image = cv2.imread(\"image_path\")\n",
    "\n",
    "gray = cv2.cvtColor(image, cv2.COLOR_BGR2GRAY)\n",
    "edges = cv2.Canny(gray, 100, 200)\n",
    "kernel = np.ones((5,5), np.float32)/25\n",
    "texture = cv2.filter2D(gray, -1, kernel)\n",
    "\n",
    "cv2.imshow(\"Original Image\", image)\n",
    "cv2.inshow(\"Edges\", edges)\n",
    "cv2.imshow(\"Texture\", texture)\n",
    "\n",
    "cv2.waitKey(0)\n",
    "cv2.destroyAllWindows()\n"
   ]
  }
 ],
 "metadata": {
  "language_info": {
   "name": "python"
  }
 },
 "nbformat": 4,
 "nbformat_minor": 2
}
