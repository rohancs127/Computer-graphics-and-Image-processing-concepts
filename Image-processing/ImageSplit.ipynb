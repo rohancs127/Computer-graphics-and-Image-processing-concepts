{
 "cells": [
  {
   "cell_type": "code",
   "execution_count": null,
   "metadata": {},
   "outputs": [],
   "source": [
    "import cv2\n",
    "\n",
    "image = cv2.imread(\"path_to_image\")\n",
    "h, w, channels = image.shape\n",
    "\n",
    "half1 = w//2\n",
    "half2 = h//2\n",
    "\n",
    "upLeft = image[:half2, :half1]\n",
    "upRight = image[:half2, half1:]\n",
    "downLeft = image[half2:, :half1]\n",
    "downRight = image[half2:, half1:]\n",
    "\n",
    "cv2.imshow(\"Original Image\", image)\n",
    "cv2.imshow(\"Up Left\", upLeft)\n",
    "cv2.imshow(\"Up Right\", upRight)\n",
    "cv2.imshow(\"Down Left\", downLeft)\n",
    "cv2.imshow(\"Down Right\", downRight)\n",
    "\n",
    "cv2.imwrite(\"UpLeft.jpg\", upLeft)\n",
    "cv2.imwrite(\"UpRight.jpg\", upRight)\n",
    "cv2.imwrite(\"DownLeft.jpg\", downLeft)\n",
    "cv2.imwrite(\"DownRight.jpg\", downRight)\n",
    "\n",
    "\n"
   ]
  }
 ],
 "metadata": {
  "language_info": {
   "name": "python"
  }
 },
 "nbformat": 4,
 "nbformat_minor": 2
}
